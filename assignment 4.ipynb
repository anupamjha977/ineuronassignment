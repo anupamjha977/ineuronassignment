{
 "cells": [
  {
   "cell_type": "raw",
   "id": "c544dce3",
   "metadata": {},
   "source": [
    "1. Write a Python Program to Find the Factorial of a Number?\n",
    "2. Write a Python Program to Display the multiplication Table?\n",
    "3. Write a Python Program to Print the Fibonacci sequence?\n",
    "4. Write a Python Program to Check Armstrong Number?\n",
    "5. Write a Python Program to Find Armstrong Number in an Interval?\n",
    "6. Write a Python Program to Find the Sum of Natural Numbers?"
   ]
  },
  {
   "cell_type": "code",
   "execution_count": 1,
   "id": "b91f303a",
   "metadata": {},
   "outputs": [],
   "source": [
    "\n",
    "\n",
    "def factorial(a):\n",
    "    fact=1\n",
    "    for i in range(1,a+1):\n",
    "        fact=i*fact\n",
    "    return fact\n",
    "        \n",
    "    "
   ]
  },
  {
   "cell_type": "code",
   "execution_count": 2,
   "id": "827eef54",
   "metadata": {},
   "outputs": [
    {
     "data": {
      "text/plain": [
       "24"
      ]
     },
     "execution_count": 2,
     "metadata": {},
     "output_type": "execute_result"
    }
   ],
   "source": [
    "factorial(4)"
   ]
  },
  {
   "cell_type": "code",
   "execution_count": 3,
   "id": "24ef21be",
   "metadata": {},
   "outputs": [],
   "source": [
    "def multiplicationtable(m,n):\n",
    "    print(\"we are printing  the table of {} and {}\".format(m,n-1))\n",
    "    for i in range(m,n):\n",
    "        for j in range(1,11):\n",
    "            print(\"{}*{} =\".format(i,j),i*j)"
   ]
  },
  {
   "cell_type": "code",
   "execution_count": 4,
   "id": "256689ba",
   "metadata": {},
   "outputs": [
    {
     "name": "stdout",
     "output_type": "stream",
     "text": [
      "we are printing  the table of 1 and 2\n",
      "1*1 = 1\n",
      "1*2 = 2\n",
      "1*3 = 3\n",
      "1*4 = 4\n",
      "1*5 = 5\n",
      "1*6 = 6\n",
      "1*7 = 7\n",
      "1*8 = 8\n",
      "1*9 = 9\n",
      "1*10 = 10\n",
      "2*1 = 2\n",
      "2*2 = 4\n",
      "2*3 = 6\n",
      "2*4 = 8\n",
      "2*5 = 10\n",
      "2*6 = 12\n",
      "2*7 = 14\n",
      "2*8 = 16\n",
      "2*9 = 18\n",
      "2*10 = 20\n"
     ]
    }
   ],
   "source": [
    "multiplicationtable(1,3)"
   ]
  },
  {
   "cell_type": "code",
   "execution_count": 25,
   "id": "e78c0ec4",
   "metadata": {},
   "outputs": [],
   "source": [
    "def fibo(n):\n",
    "        if n <0:\n",
    "            return \"Negative term not possible\"\n",
    "        elif n<=1:\n",
    "            return n\n",
    "        elif n==0:\n",
    "            return 0\n",
    "        else:\n",
    "            return (fibo(n-2)+fibo(n-1))\n",
    "def fibbonaci(n):\n",
    "    for i in range(n):\n",
    "        print(fibo(i))\n",
    "    \n",
    "                \n",
    "                \n",
    "\n",
    "                \n",
    "        \n",
    "    "
   ]
  },
  {
   "cell_type": "code",
   "execution_count": 26,
   "id": "6e3781c6",
   "metadata": {},
   "outputs": [
    {
     "name": "stdout",
     "output_type": "stream",
     "text": [
      "0\n",
      "1\n",
      "1\n",
      "2\n"
     ]
    }
   ],
   "source": [
    "fibbonaci(4)"
   ]
  },
  {
   "cell_type": "code",
   "execution_count": 29,
   "id": "c0840599",
   "metadata": {},
   "outputs": [],
   "source": [
    "def armstrong(n):\n",
    "    sum=0\n",
    "    temp=n\n",
    "    while temp>0:\n",
    "        digit=temp%10\n",
    "        sum=sum+digit**3\n",
    "        temp=temp//10\n",
    "    if(n==sum):\n",
    "        return \"armstrong number\"\n",
    "    else:\n",
    "        return \"not armstrong\""
   ]
  },
  {
   "cell_type": "code",
   "execution_count": 30,
   "id": "2f1079f5",
   "metadata": {},
   "outputs": [
    {
     "data": {
      "text/plain": [
       "'armstrong number'"
      ]
     },
     "execution_count": 30,
     "metadata": {},
     "output_type": "execute_result"
    }
   ],
   "source": [
    "armstrong(153)"
   ]
  },
  {
   "cell_type": "code",
   "execution_count": 34,
   "id": "2434fdf5",
   "metadata": {},
   "outputs": [],
   "source": [
    "def armstrong(m,n):\n",
    "    for i in range(m,n):\n",
    "        sum=0\n",
    "        temp=i\n",
    "        while temp>0:\n",
    "            digit=temp%10\n",
    "            sum=sum+digit**3\n",
    "            temp=temp//10\n",
    "        if(i==sum):\n",
    "            print(i)\n",
    "                \n",
    "                \n",
    "           \n"
   ]
  },
  {
   "cell_type": "code",
   "execution_count": 35,
   "id": "5ac88339",
   "metadata": {},
   "outputs": [
    {
     "name": "stdout",
     "output_type": "stream",
     "text": [
      "1\n",
      "153\n",
      "370\n",
      "371\n",
      "407\n"
     ]
    }
   ],
   "source": [
    "armstrong(1,1000)"
   ]
  },
  {
   "cell_type": "code",
   "execution_count": 42,
   "id": "e0aaa975",
   "metadata": {},
   "outputs": [],
   "source": [
    "def SumNaturnal(n):\n",
    "    if n<=0:\n",
    "        return \"Not Natural Number\"\n",
    "    else:\n",
    "        sum=0\n",
    "        for i in range(n+1):\n",
    "            sum=sum+i\n",
    "    return sum\n",
    "    "
   ]
  },
  {
   "cell_type": "code",
   "execution_count": 37,
   "id": "74b6e2b7",
   "metadata": {},
   "outputs": [
    {
     "data": {
      "text/plain": [
       "'Not Natural Number'"
      ]
     },
     "execution_count": 37,
     "metadata": {},
     "output_type": "execute_result"
    }
   ],
   "source": [
    "SumNaturnal(0)"
   ]
  },
  {
   "cell_type": "code",
   "execution_count": 43,
   "id": "a0fd19a4",
   "metadata": {},
   "outputs": [
    {
     "data": {
      "text/plain": [
       "15"
      ]
     },
     "execution_count": 43,
     "metadata": {},
     "output_type": "execute_result"
    }
   ],
   "source": [
    "SumNaturnal(5)"
   ]
  },
  {
   "cell_type": "code",
   "execution_count": null,
   "id": "325764dd",
   "metadata": {},
   "outputs": [],
   "source": []
  }
 ],
 "metadata": {
  "kernelspec": {
   "display_name": "Python 3 (ipykernel)",
   "language": "python",
   "name": "python3"
  },
  "language_info": {
   "codemirror_mode": {
    "name": "ipython",
    "version": 3
   },
   "file_extension": ".py",
   "mimetype": "text/x-python",
   "name": "python",
   "nbconvert_exporter": "python",
   "pygments_lexer": "ipython3",
   "version": "3.9.7"
  }
 },
 "nbformat": 4,
 "nbformat_minor": 5
}
