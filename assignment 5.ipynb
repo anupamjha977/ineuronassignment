{
 "cells": [
  {
   "cell_type": "raw",
   "id": "c725cadb",
   "metadata": {},
   "source": [
    "\n",
    "1. Write a Python Program to Find LCM?\n",
    "2. Write a Python Program to Find HCF?\n",
    "3. Write a Python Program to Convert Decimal to Binary, Octal and Hexadecimal?\n",
    "4. Write a Python Program To Find ASCII value of a character?\n",
    "5. Write a Python Program to Make a Simple Calculator with 4 basic mathematical operations?"
   ]
  },
  {
   "cell_type": "code",
   "execution_count": 14,
   "id": "83cd9c40",
   "metadata": {},
   "outputs": [],
   "source": [
    "def hcf(x, y):\n",
    "\n",
    "   while(y):\n",
    "       x, y = y, x % y\n",
    "   return x\n",
    "#lcm and hcf is equal to product of number\n",
    "\n",
    "def lcm(x,y):\n",
    "    lc=x*y//hcf(x,y)\n",
    "    return lc\n"
   ]
  },
  {
   "cell_type": "code",
   "execution_count": 13,
   "id": "ed8d3f2d",
   "metadata": {},
   "outputs": [
    {
     "data": {
      "text/plain": [
       "1000"
      ]
     },
     "execution_count": 13,
     "metadata": {},
     "output_type": "execute_result"
    }
   ],
   "source": [
    "lcm(250,200)"
   ]
  },
  {
   "cell_type": "code",
   "execution_count": 15,
   "id": "3c6b3a70",
   "metadata": {},
   "outputs": [],
   "source": [
    "def hcf(x, y):\n",
    "\n",
    "   while(y):\n",
    "       x, y = y, x % y\n",
    "   return x"
   ]
  },
  {
   "cell_type": "code",
   "execution_count": 16,
   "id": "fdaa4323",
   "metadata": {},
   "outputs": [
    {
     "data": {
      "text/plain": [
       "10"
      ]
     },
     "execution_count": 16,
     "metadata": {},
     "output_type": "execute_result"
    }
   ],
   "source": [
    "hcf(20,30)"
   ]
  },
  {
   "cell_type": "code",
   "execution_count": 29,
   "id": "8cd65924",
   "metadata": {},
   "outputs": [],
   "source": [
    "def DecimalToBinary(num):\n",
    "     \n",
    "    if num >= 1:\n",
    "        DecimalToBinary(num // 2)\n",
    "    print(num % 2,end=\"\")"
   ]
  },
  {
   "cell_type": "code",
   "execution_count": 46,
   "id": "d6c28d95",
   "metadata": {},
   "outputs": [
    {
     "name": "stdout",
     "output_type": "stream",
     "text": [
      "01010111"
     ]
    }
   ],
   "source": [
    "DecimalToBinary(87)"
   ]
  },
  {
   "cell_type": "code",
   "execution_count": 47,
   "id": "b4681bce",
   "metadata": {},
   "outputs": [],
   "source": [
    "def DecimalToOctal(num):\n",
    "     \n",
    "    if num >= 1:\n",
    "        DecimalToOctal(num // 8)\n",
    "    print(num % 8,end=\"\")"
   ]
  },
  {
   "cell_type": "code",
   "execution_count": 48,
   "id": "621f3829",
   "metadata": {},
   "outputs": [
    {
     "name": "stdout",
     "output_type": "stream",
     "text": [
      "0322"
     ]
    }
   ],
   "source": [
    "DecimalToOctal(210)"
   ]
  },
  {
   "cell_type": "code",
   "execution_count": 2,
   "id": "f13af059",
   "metadata": {},
   "outputs": [
    {
     "name": "stdout",
     "output_type": "stream",
     "text": [
      "Hexadecimal:  CD\n"
     ]
    }
   ],
   "source": [
    "conversion_table = ['0', '1', '2', '3', '4', '5', '6', '7', '8', '9', 'A' , 'B', 'C', 'D', 'E', 'F']\n",
    "\n",
    "def DecimalTohex(n):\n",
    "    if(n<=0):\n",
    "        return ''\n",
    "    remainder = n%16\n",
    "    return  DecimalTohex(n//16)+conversion_table[remainder]\n",
    "        \n",
    "\n",
    "print(\"Hexadecimal: \",DecimalTohex(decimal))\n"
   ]
  },
  {
   "cell_type": "code",
   "execution_count": 3,
   "id": "5f4a6d38",
   "metadata": {},
   "outputs": [
    {
     "data": {
      "text/plain": [
       "'CD'"
      ]
     },
     "execution_count": 3,
     "metadata": {},
     "output_type": "execute_result"
    }
   ],
   "source": [
    "DecimalTohex(205)"
   ]
  },
  {
   "cell_type": "code",
   "execution_count": 4,
   "id": "40353df5",
   "metadata": {},
   "outputs": [
    {
     "data": {
      "text/plain": [
       "65"
      ]
     },
     "execution_count": 4,
     "metadata": {},
     "output_type": "execute_result"
    }
   ],
   "source": [
    "#ascii value of character\n",
    "ord(\"A\")"
   ]
  },
  {
   "cell_type": "code",
   "execution_count": 16,
   "id": "f9076edf",
   "metadata": {},
   "outputs": [],
   "source": [
    "#Simple calculator\n",
    "def add(a,b):\n",
    "    return a+b\n",
    "def sub(a,b):\n",
    "    return a-b\n",
    "def mul(a,b):\n",
    "    return a*b\n",
    "def exp(a,b):\n",
    "    return a**b\n",
    "def div(a,b):\n",
    "    return a//b\n",
    "calculator={\"add\":add(1,3),\"sub\":sub(4,3),\"mul\":mul(5,4),\"exp\":exp(4,6),\"div\":div(20,10)}\n",
    "\n"
   ]
  },
  {
   "cell_type": "code",
   "execution_count": 17,
   "id": "71c13639",
   "metadata": {},
   "outputs": [
    {
     "data": {
      "text/plain": [
       "dict_keys(['add', 'sub', 'mul', 'exp', 'div'])"
      ]
     },
     "execution_count": 17,
     "metadata": {},
     "output_type": "execute_result"
    }
   ],
   "source": [
    "calculator.keys()"
   ]
  },
  {
   "cell_type": "code",
   "execution_count": 18,
   "id": "f412e221",
   "metadata": {},
   "outputs": [
    {
     "data": {
      "text/plain": [
       "4"
      ]
     },
     "execution_count": 18,
     "metadata": {},
     "output_type": "execute_result"
    }
   ],
   "source": [
    "calculator[\"add\"]"
   ]
  },
  {
   "cell_type": "code",
   "execution_count": null,
   "id": "91ef6bc3",
   "metadata": {},
   "outputs": [],
   "source": []
  }
 ],
 "metadata": {
  "kernelspec": {
   "display_name": "Python 3 (ipykernel)",
   "language": "python",
   "name": "python3"
  },
  "language_info": {
   "codemirror_mode": {
    "name": "ipython",
    "version": 3
   },
   "file_extension": ".py",
   "mimetype": "text/x-python",
   "name": "python",
   "nbconvert_exporter": "python",
   "pygments_lexer": "ipython3",
   "version": "3.9.7"
  }
 },
 "nbformat": 4,
 "nbformat_minor": 5
}
