{
 "cells": [
  {
   "cell_type": "raw",
   "id": "de6d8497",
   "metadata": {},
   "source": [
    "1. Write a Python Program to Display Fibonacci Sequence Using Recursion?\n",
    "2. Write a Python Program to Find Factorial of Number Using Recursion?\n",
    "3. Write a Python Program to calculate your Body Mass Index?\n",
    "4. Write a Python Program to calculate the natural logarithm of any number?\n",
    "5. Write a Python Program for cube sum of first n natural numbers?"
   ]
  },
  {
   "cell_type": "code",
   "execution_count": 2,
   "id": "05abee02",
   "metadata": {},
   "outputs": [],
   "source": [
    "def fibo(n):\n",
    "        if n <0:\n",
    "            return \"Negative term not possible\"\n",
    "        elif n<=1:\n",
    "            return n\n",
    "        elif n==0:\n",
    "            return 0\n",
    "        else:\n",
    "            return (fibo(n-2)+fibo(n-1))\n"
   ]
  },
  {
   "cell_type": "code",
   "execution_count": 3,
   "id": "f7c668a5",
   "metadata": {},
   "outputs": [],
   "source": [
    "def fact(n):\n",
    "    if n<0:\n",
    "        return \"Negative term not possible\"\n",
    "    elif n==0 or n==1:\n",
    "        return 1\n",
    "    else:\n",
    "        return n*fact(n-1)"
   ]
  },
  {
   "cell_type": "code",
   "execution_count": 4,
   "id": "6f01d7e2",
   "metadata": {},
   "outputs": [
    {
     "data": {
      "text/plain": [
       "24"
      ]
     },
     "execution_count": 4,
     "metadata": {},
     "output_type": "execute_result"
    }
   ],
   "source": [
    "fact(4)"
   ]
  },
  {
   "cell_type": "code",
   "execution_count": 5,
   "id": "347b06b6",
   "metadata": {},
   "outputs": [
    {
     "data": {
      "text/plain": [
       "1"
      ]
     },
     "execution_count": 5,
     "metadata": {},
     "output_type": "execute_result"
    }
   ],
   "source": [
    "fact(0)"
   ]
  },
  {
   "cell_type": "code",
   "execution_count": 14,
   "id": "267551bd",
   "metadata": {},
   "outputs": [],
   "source": [
    "def bodymass(weight ,height):\n",
    "    bmi=weight/(height*height)\n",
    "    return bmi"
   ]
  },
  {
   "cell_type": "code",
   "execution_count": 15,
   "id": "baf94b57",
   "metadata": {},
   "outputs": [
    {
     "data": {
      "text/plain": [
       "28.40909090909091"
      ]
     },
     "execution_count": 15,
     "metadata": {},
     "output_type": "execute_result"
    }
   ],
   "source": [
    "bodymass(88,1.76)"
   ]
  },
  {
   "cell_type": "code",
   "execution_count": 32,
   "id": "1649a759",
   "metadata": {},
   "outputs": [],
   "source": [
    "def logartimicn(m,n):\n",
    "    import math\n",
    "    sum=0\n",
    "    for i in range(m,n):\n",
    "        sum=sum+math.log2(i)\n",
    "    return sum\n",
    "    "
   ]
  },
  {
   "cell_type": "code",
   "execution_count": 33,
   "id": "0d83bb65",
   "metadata": {},
   "outputs": [
    {
     "data": {
      "text/plain": [
       "2.584962500721156"
      ]
     },
     "execution_count": 33,
     "metadata": {},
     "output_type": "execute_result"
    }
   ],
   "source": [
    "\n",
    "logartimicn(1,4)"
   ]
  },
  {
   "cell_type": "code",
   "execution_count": 34,
   "id": "ae804579",
   "metadata": {},
   "outputs": [],
   "source": [
    "def cubeaddition(m,n):\n",
    "    sum=0\n",
    "    for i in range(m,n):\n",
    "        sum=sum+i**3\n",
    "    return sum"
   ]
  },
  {
   "cell_type": "code",
   "execution_count": 35,
   "id": "d1e8e09c",
   "metadata": {},
   "outputs": [
    {
     "data": {
      "text/plain": [
       "100"
      ]
     },
     "execution_count": 35,
     "metadata": {},
     "output_type": "execute_result"
    }
   ],
   "source": [
    "cubeaddition(1,5)"
   ]
  },
  {
   "cell_type": "code",
   "execution_count": null,
   "id": "f8d540fd",
   "metadata": {},
   "outputs": [],
   "source": []
  }
 ],
 "metadata": {
  "kernelspec": {
   "display_name": "Python 3 (ipykernel)",
   "language": "python",
   "name": "python3"
  },
  "language_info": {
   "codemirror_mode": {
    "name": "ipython",
    "version": 3
   },
   "file_extension": ".py",
   "mimetype": "text/x-python",
   "name": "python",
   "nbconvert_exporter": "python",
   "pygments_lexer": "ipython3",
   "version": "3.9.7"
  }
 },
 "nbformat": 4,
 "nbformat_minor": 5
}
